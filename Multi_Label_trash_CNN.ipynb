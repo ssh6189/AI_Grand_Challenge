{
 "cells": [
  {
   "cell_type": "code",
   "execution_count": 1,
   "metadata": {},
   "outputs": [
    {
     "name": "stderr",
     "output_type": "stream",
     "text": [
      "Using TensorFlow backend.\n"
     ]
    },
    {
     "data": {
      "text/plain": [
       "22"
      ]
     },
     "execution_count": 1,
     "metadata": {},
     "output_type": "execute_result"
    }
   ],
   "source": [
    "import os\n",
    "import gc\n",
    "import cv2\n",
    "import random\n",
    "import numpy as np\n",
    "import matplotlib.pyplot as plt\n",
    "from keras.utils import to_categorical\n",
    "from keras.models import Sequential\n",
    "from keras.layers import Dense, Conv2D, MaxPooling2D, Dropout, Flatten\n",
    "\n",
    "# 1.) Get all image path sets\n",
    "cardboard = ['C:/Users/user/Desktop/trash/Garbage_classification/Garbage_classification/cardboard/{}'.format(i) for i in os.listdir('C:/Users/user/Desktop/trash/Garbage_classification/Garbage_classification/cardboard') if 'cardboard' in i]\n",
    "glass = ['C:/Users/user/Desktop/trash/Garbage_classification/Garbage_classification/glass/{}'.format(i) for i in os.listdir('C:/Users/user/Desktop/trash/Garbage_classification/Garbage_classification/glass') if 'glass' in i]\n",
    "metal = ['C:/Users/user/Desktop/trash/Garbage_classification/Garbage_classification/metal/{}'.format(i) for i in os.listdir('C:/Users/user/Desktop/trash/Garbage_classification/Garbage_classification/metal') if 'metal' in i]\n",
    "paper = ['C:/Users/user/Desktop/trash/Garbage_classification/Garbage_classification/paper/{}'.format(i) for i in os.listdir('C:/Users/user/Desktop/trash/Garbage_classification/Garbage_classification/paper') if 'paper' in i]\n",
    "plastic = ['C:/Users/user/Desktop/trash/Garbage_classification/Garbage_classification/plastic/{}'.format(i) for i in os.listdir('C:/Users/user/Desktop/trash/Garbage_classification/Garbage_classification/plastic') if 'plastic' in i]\n",
    "trash = ['C:/Users/user/Desktop/trash/Garbage_classification/Garbage_classification/trash/{}'.format(i) for i in os.listdir('C:/Users/user/Desktop/trash/Garbage_classification/Garbage_classification/trash') if 'trash' in i]\n",
    "\n",
    "# 2.) Randomly Shuffle Images Before Splitting for Training and Testing\n",
    "random.shuffle(cardboard)\n",
    "random.shuffle(glass)\n",
    "random.shuffle(metal)\n",
    "random.shuffle(paper)\n",
    "random.shuffle(plastic)\n",
    "random.shuffle(trash)\n",
    "\n",
    "\n",
    "# 3.) Training and Testing Image Sets\n",
    "train_set = cardboard[:300] + glass[:375] + metal[:300] + paper[:450] + plastic[:360] + trash[:100]\n",
    "test_set = cardboard[300:] + glass[375:] + metal[300:] + paper[450:] + plastic[360:] + trash[100:]\n",
    "\n",
    "# 4.) Garbage Collection\n",
    "del cardboard, glass, metal, paper, plastic, trash\n",
    "gc.collect()"
   ]
  },
  {
   "cell_type": "code",
   "execution_count": 2,
   "metadata": {},
   "outputs": [],
   "source": [
    "# 5.) Image Pre-Processing\n",
    "nRows = 150  # Width\n",
    "nCols = 150  # Height\n",
    "channels = 3  # Color Channels RGB-3, Grayscale-1\n",
    "\n",
    "# 6.) Training and Testing Set Labeling\n",
    "X_train = []\n",
    "X_test = []\n",
    "y_train = []\n",
    "y_test = []\n",
    "\n",
    "# 7.) Read and Label Each Image in the Training Set\n",
    "for image in train_set:\n",
    "    try:\n",
    "        X_train.append(cv2.resize(cv2.imread(image, cv2.IMREAD_COLOR), (nRows, nCols), interpolation=cv2.INTER_CUBIC))\n",
    "        if 'cardboard' in image:\n",
    "            y_train.append(1)\n",
    "        elif 'glass' in image:\n",
    "            y_train.append(2)\n",
    "        elif 'metal' in image:\n",
    "            y_train.append(3)\n",
    "        elif 'paper' in image:\n",
    "            y_train.append(4)\n",
    "        elif 'plastic' in image:\n",
    "            y_train.append(5)\n",
    "        elif 'trash' in image:\n",
    "            y_train.append(6)\n",
    "    except Exception:\n",
    "        print('Failed to format: ', image)\n",
    "\n",
    "# 8.) Read and Label Each Image in the Testing Set\n",
    "for image in test_set:\n",
    "    try:\n",
    "        X_test.append(cv2.resize(cv2.imread(image, cv2.IMREAD_COLOR), (nRows, nCols), interpolation=cv2.INTER_CUBIC))\n",
    "        if 'cardboard' in image:\n",
    "            y_test.append(1)\n",
    "        elif 'glass' in image:\n",
    "            y_test.append(2)\n",
    "        elif 'metal' in image:\n",
    "            y_test.append(3)\n",
    "        elif 'paper' in image:\n",
    "            y_test.append(4)\n",
    "        elif 'plastic' in image:\n",
    "            y_test.append(5)\n",
    "        elif 'trash' in image:\n",
    "            y_test.append(6)\n",
    "    except Exception:\n",
    "        print('Failed to format: ', image)\n",
    "\n",
    "# 9.) Garbage Collection\n",
    "del train_set, test_set\n",
    "gc.collect()\n",
    "\n",
    "# 10.) Convert to Numpy Arrays\n",
    "X_train = np.array(X_train)\n",
    "X_test = np.array(X_test)\n",
    "y_train = np.array(y_train)\n",
    "y_test = np.array(y_test)\n",
    "\n",
    "# 11.) Switch Targets to Categorical\n",
    "y_train = to_categorical(y_train)\n",
    "y_test = to_categorical(y_test)"
   ]
  },
  {
   "cell_type": "code",
   "execution_count": 3,
   "metadata": {},
   "outputs": [
    {
     "name": "stdout",
     "output_type": "stream",
     "text": [
      "WARNING:tensorflow:From C:\\Users\\user\\anaconda\\envs\\test\\lib\\site-packages\\tensorflow_core\\python\\ops\\resource_variable_ops.py:1630: calling BaseResourceVariable.__init__ (from tensorflow.python.ops.resource_variable_ops) with constraint is deprecated and will be removed in a future version.\n",
      "Instructions for updating:\n",
      "If using Keras pass *_constraint arguments to layers.\n",
      "WARNING:tensorflow:From C:\\Users\\user\\anaconda\\envs\\test\\lib\\site-packages\\keras\\backend\\tensorflow_backend.py:4070: The name tf.nn.max_pool is deprecated. Please use tf.nn.max_pool2d instead.\n",
      "\n",
      "Model: \"sequential_1\"\n",
      "_________________________________________________________________\n",
      "Layer (type)                 Output Shape              Param #   \n",
      "=================================================================\n",
      "conv2d_1 (Conv2D)            (None, 148, 148, 32)      896       \n",
      "_________________________________________________________________\n",
      "max_pooling2d_1 (MaxPooling2 (None, 74, 74, 32)        0         \n",
      "_________________________________________________________________\n",
      "conv2d_2 (Conv2D)            (None, 72, 72, 64)        18496     \n",
      "_________________________________________________________________\n",
      "max_pooling2d_2 (MaxPooling2 (None, 36, 36, 64)        0         \n",
      "_________________________________________________________________\n",
      "conv2d_3 (Conv2D)            (None, 34, 34, 128)       73856     \n",
      "_________________________________________________________________\n",
      "max_pooling2d_3 (MaxPooling2 (None, 17, 17, 128)       0         \n",
      "_________________________________________________________________\n",
      "conv2d_4 (Conv2D)            (None, 15, 15, 256)       295168    \n",
      "_________________________________________________________________\n",
      "max_pooling2d_4 (MaxPooling2 (None, 7, 7, 256)         0         \n",
      "_________________________________________________________________\n",
      "flatten_1 (Flatten)          (None, 12544)             0         \n",
      "_________________________________________________________________\n",
      "dropout_1 (Dropout)          (None, 12544)             0         \n",
      "_________________________________________________________________\n",
      "dense_1 (Dense)              (None, 7)                 87815     \n",
      "=================================================================\n",
      "Total params: 476,231\n",
      "Trainable params: 476,231\n",
      "Non-trainable params: 0\n",
      "_________________________________________________________________\n",
      "None\n",
      "WARNING:tensorflow:From C:\\Users\\user\\anaconda\\envs\\test\\lib\\site-packages\\keras\\backend\\tensorflow_backend.py:422: The name tf.global_variables is deprecated. Please use tf.compat.v1.global_variables instead.\n",
      "\n",
      "Train on 1885 samples, validate on 642 samples\n",
      "Epoch 1/10\n",
      "1885/1885 [==============================] - 144s 76ms/step - loss: 5.2566 - accuracy: 0.3125 - val_loss: 1.5027 - val_accuracy: 0.4159\n",
      "Epoch 2/10\n",
      "1885/1885 [==============================] - 141s 75ms/step - loss: 1.3840 - accuracy: 0.4435 - val_loss: 1.3980 - val_accuracy: 0.4533\n",
      "Epoch 3/10\n",
      "1885/1885 [==============================] - 142s 75ms/step - loss: 1.2656 - accuracy: 0.4950 - val_loss: 1.3217 - val_accuracy: 0.4626\n",
      "Epoch 4/10\n",
      "1885/1885 [==============================] - 140s 74ms/step - loss: 1.1689 - accuracy: 0.5416 - val_loss: 1.2529 - val_accuracy: 0.4984\n",
      "Epoch 5/10\n",
      "1885/1885 [==============================] - 142s 75ms/step - loss: 1.0969 - accuracy: 0.5814 - val_loss: 1.2815 - val_accuracy: 0.4735\n",
      "Epoch 6/10\n",
      "1885/1885 [==============================] - 137s 73ms/step - loss: 0.9946 - accuracy: 0.6334 - val_loss: 1.3023 - val_accuracy: 0.4907\n",
      "Epoch 7/10\n",
      "1885/1885 [==============================] - 137s 73ms/step - loss: 0.9166 - accuracy: 0.6557 - val_loss: 1.4005 - val_accuracy: 0.4860\n",
      "Epoch 8/10\n",
      "1885/1885 [==============================] - 146s 78ms/step - loss: 0.8642 - accuracy: 0.6732 - val_loss: 1.3771 - val_accuracy: 0.5156\n",
      "Epoch 9/10\n",
      "1885/1885 [==============================] - 145s 77ms/step - loss: 0.7783 - accuracy: 0.7098 - val_loss: 1.2296 - val_accuracy: 0.5685\n",
      "Epoch 10/10\n",
      "1885/1885 [==============================] - 142s 75ms/step - loss: 0.7008 - accuracy: 0.7422 - val_loss: 1.2884 - val_accuracy: 0.5748\n"
     ]
    }
   ],
   "source": [
    "#ResNet\n",
    "from keras.applications import ResNet50\n",
    "from keras.layers import Dense, Input, Activation\n",
    "from keras.models import Model\n",
    "from keras.callbacks import EarlyStopping\n",
    "from keras import optimizers\n",
    "from keras.preprocessing.image import ImageDataGenerator\n",
    "from keras.layers.normalization import BatchNormalization\n",
    "'''\n",
    "input = Input(shape=(224, 224, 3))\n",
    "model = ResNet50(input_tensor=input, include_top=False, weights=None, pooling='max')\n",
    " \n",
    "x = model.output\n",
    "x = Dense(1024, name='fully', init='uniform')(x)\n",
    "x = BatchNormalization()(x)\n",
    "x = dropout(0.3)(x)\n",
    "x = Activation('relu')(x)\n",
    "x = Dense(512, init='uniform')(x)\n",
    "x = BatchNormalization()(x)\n",
    "x = dropout(0.3)(x)\n",
    "x = Activation('relu')(x)\n",
    "x = Dense(7, activation='sigmoid', name='sigmoid')(x)\n",
    "\n",
    "model = Model(model.input, x)\n",
    "'''\n",
    "#CNN\n",
    "# 12.) Convolutional Neural Network\n",
    "model = Sequential()\n",
    "model.add(Conv2D(32, kernel_size=3, activation='relu', input_shape=(nRows, nCols, channels)))\n",
    "model.add(MaxPooling2D(2, 2))\n",
    "model.add(Conv2D(64, kernel_size=3, activation='relu'))\n",
    "model.add(MaxPooling2D(2, 2))\n",
    "model.add(Conv2D(128, kernel_size=3, activation='relu'))\n",
    "model.add(MaxPooling2D(2, 2))\n",
    "model.add(Conv2D(256, kernel_size=3, activation='relu'))\n",
    "model.add(MaxPooling2D(2, 2))\n",
    "model.add(Flatten())\n",
    "model.add(Dropout(0.5))\n",
    "model.add(Dense(7, activation='softmax'))\n",
    "\n",
    "\n",
    "# 13.) Model Summary\n",
    "print(model.summary())\n",
    "\n",
    "# 14.) Compile and Train the Model\n",
    "model.compile(optimizer='adam', loss='categorical_crossentropy', metrics=['accuracy'])\n",
    "history = model.fit(X_train, y_train, validation_data=(X_test, y_test), epochs=10)"
   ]
  },
  {
   "cell_type": "code",
   "execution_count": 4,
   "metadata": {},
   "outputs": [
    {
     "data": {
      "image/png": "[encoded data removed]",
      "text/plain": [
       "<Figure size 432x288 with 1 Axes>"
      ]
     },
     "metadata": {
      "needs_background": "light"
     },
     "output_type": "display_data"
    },
    {
     "data": {
      "image/png": "[encoded data removed]",
      "text/plain": [
       "<Figure size 432x288 with 1 Axes>"
      ]
     },
     "metadata": {
      "needs_background": "light"
     },
     "output_type": "display_data"
    }
   ],
   "source": [
    "# 15.) Plot Accuracy Over Training Period\n",
    "plt.plot(history.history['accuracy'])\n",
    "plt.plot(history.history['val_accuracy'])\n",
    "plt.title('model accuracy')\n",
    "plt.ylabel('accuracy')\n",
    "plt.xlabel('epoch')\n",
    "plt.legend(['train', 'test'], loc='upper left')\n",
    "plt.show()\n",
    "\n",
    "# 16.) Plot Loss Over Training Period\n",
    "plt.plot(history.history['loss'])\n",
    "plt.plot(history.history['val_loss'])\n",
    "plt.title('model loss')\n",
    "plt.ylabel('loss')\n",
    "plt.xlabel('epoch')\n",
    "plt.legend(['train', 'test'], loc='upper left')\n",
    "plt.show()"
   ]
  }
 ],
 "metadata": {
  "kernelspec": {
   "display_name": "Python 3",
   "language": "python",
   "name": "python3"
  },
  "language_info": {
   "codemirror_mode": {
    "name": "ipython",
    "version": 3
   },
   "file_extension": ".py",
   "mimetype": "text/x-python",
   "name": "python",
   "nbconvert_exporter": "python",
   "pygments_lexer": "ipython3",
   "version": "3.7.7"
  }
 },
 "nbformat": 4,
 "nbformat_minor": 4
}
